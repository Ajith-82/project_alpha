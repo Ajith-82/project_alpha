{
 "cells": [
  {
   "cell_type": "code",
   "execution_count": 15,
   "metadata": {},
   "outputs": [],
   "source": [
    "import yfinance as yf\n",
    "import pandas as pd\n",
    "import pandas_ta as ta\n",
    "import numpy as np\n",
    "from datetime import datetime as dt\n",
    "from datetime import timedelta as delta\n",
    "import numpy as np\n",
    "import seaborn as sb\n",
    "import os"
   ]
  },
  {
   "cell_type": "code",
   "execution_count": 3,
   "metadata": {},
   "outputs": [
    {
     "name": "stdout",
     "output_type": "stream",
     "text": [
      "   10_cross_30  MACD_Signal_MACD  MACD_lim  abv_50  abv_200  strategy\n",
      "0            0                 1         0       1        0         1\n",
      "1            0                 1         0       1        1         2\n",
      "2            1                 1         0       1        0         3\n",
      "3            1                 0         1       0        0         4\n",
      "4            1                 0         1       0        1         5\n"
     ]
    }
   ],
   "source": [
    "signals = pd.DataFrame({\n",
    "    '10_cross_30':[0,0,1,1,1],\n",
    "    'MACD_Signal_MACD':[1,1,1,0,0],\n",
    "    'MACD_lim':[0,0,0,1,1],\n",
    "    'abv_50':[1,1,1,0,0],\n",
    "    'abv_200':[0,1,0,0,1],\n",
    "    'strategy': [1,2,3,4,5],\n",
    "})\n",
    "print(signals)"
   ]
  },
  {
   "cell_type": "code",
   "execution_count": 19,
   "metadata": {},
   "outputs": [],
   "source": [
    "def add_signal_indicators(df):\n",
    "    df['SMA_10'] = ta.sma(df['Adj Close'],length=10)\n",
    "    df['SMA_30'] = ta.sma(df['Adj Close'],length=30)\n",
    "    df['SMA_50'] = ta.sma(df['Adj Close'],length=50)\n",
    "    df['SMA_200'] = ta.sma(df['Adj Close'],length=200)\n",
    "    \n",
    "    macd = ta.macd(df['Adj Close'], fast=12, slow=26, signal=9)\n",
    "    df['MACD'] = macd['MACD_12_26_9']\n",
    "    df['MACD_signal'] = macd['MACDs_12_26_9']\n",
    "    df['MACD_hist'] = macd['MACDh_12_26_9']\n",
    "\n",
    "    df['10_cross_30'] = np.where(df['SMA_10'] > df['SMA_30'], 1, 0)\n",
    "    \n",
    "    df['MACD_Signal_MACD'] = np.where(df['MACD_signal'] < df['MACD'], 1, 0)\n",
    "    \n",
    "    df['MACD_lim'] = np.where(df['MACD']>0, 1, 0)\n",
    "    \n",
    "    df['abv_50'] = np.where((df['SMA_30']>df['SMA_50'])\n",
    "                            &(df['SMA_10']>df['SMA_50']), 1, 0)\n",
    "                            \n",
    "    df['abv_200'] = np.where((df['SMA_30']>df['SMA_200'])\n",
    "                            &(df['SMA_10']>df['SMA_200'])\n",
    "                            &(df['SMA_50']>df['SMA_200']), 1, 0)\n",
    "    \n",
    "    return df"
   ]
  },
  {
   "cell_type": "markdown",
   "metadata": {},
   "source": [
    "nifty_50_stocks = ['EICHERMOT','HEROMOTOCO','NESTLEIND','ONGC',\n",
    "                   'BAJAJ-AUTO','TATASTEEL','GRASIM',\n",
    "                   'BRITANNIA','BAJFINANCE','DIVISLAB','M&M',\n",
    "                   'HINDUNILVR','HDFCBANK','HDFCLIFE','BHARTIARTL','TCS',\n",
    "                   'LT','DRREDDY','ULTRACEMCO','SUNPHARMA','NTPC',\n",
    "                   'TATAMOTORS','UPL','SBIN','HINDALCO','ITC','JSWSTEEL',\n",
    "                   'COALINDIA','RELIANCE','BPCL','LTIM','MARUTI','HCLTECH',\n",
    "                   'POWERGRID','WIPRO','SBILIFE','AXISBANK',\n",
    "                   'ADANIPORTS','ICICIBANK','TITAN','BAJAJFINSV','KOTAKBANK',\n",
    "                   'TATACONSUM','APOLLOHOSP','INFY','ASIANPAINT',\n",
    "                   'ADANIENT','INDUSINDBK','TECHM','CIPLA']"
   ]
  },
  {
   "cell_type": "code",
   "execution_count": 5,
   "metadata": {},
   "outputs": [],
   "source": [
    "nifty_50_stocks = ['TECHM','CIPLA']"
   ]
  },
  {
   "cell_type": "code",
   "execution_count": 6,
   "metadata": {},
   "outputs": [],
   "source": [
    "def backtest_signals(row):\n",
    "    global TRADES, trade_in_progress, signals, holding_period\n",
    "    \n",
    "    if(trade_in_progress):\n",
    "        _data = TRADES[-1]\n",
    "        # time to sell after n holding days\n",
    "        if(row['index']==_data['sell_index']):\n",
    "            _data['sell_price'] = round(row['Adj Close'],2)\n",
    "            _data['sell_date'] = str(pd.to_datetime(row['Date']).date())\n",
    "            _data['returns'] = round((_data['sell_price']-_data['buy_price'])/_data['buy_price']*100, 3)\n",
    "            TRADES[-1] = _data\n",
    "            trade_in_progress = False\n",
    "            \n",
    "    else:\n",
    "        _r = pd.DataFrame([row])\n",
    "        _r = _r.merge(signals, on=list(signals.columns[:-1]), how='inner')\n",
    "        strategy = _r.shape[0]\n",
    "        \n",
    "        if(strategy>0): \n",
    "            trade_in_progress = True\n",
    "            TRADES.append({\n",
    "                'strategy': _r['strategy'].values[0],\n",
    "                'buy_date': str(pd.to_datetime(row['Date']).date()),\n",
    "                'buy_index': row['index'],\n",
    "                'sell_date': '',\n",
    "                'sell_index': row['index'] + holding_period,\n",
    "                'buy_price': round(row['Adj Close'], 2),\n",
    "                'sell_price': '',\n",
    "                'returns': 0,\n",
    "                'stock': row['stock']\n",
    "            })"
   ]
  },
  {
   "cell_type": "code",
   "execution_count": null,
   "metadata": {},
   "outputs": [],
   "source": [
    "TRADES = []\n",
    "trade_in_progress = False\n",
    "holding_period = 14\n",
    "\n",
    "for i in nifty_50_stocks:\n",
    "    _df = yf.download(f\"{i}.NS\", \n",
    "                      period='1d', \n",
    "                      start='2022-01-01', \n",
    "                      end=(dt.now() + delta(1)).strftime('%Y-%m-%d'), \n",
    "                      progress=False)\n",
    "\n",
    "    _df = add_signal_indicators(_df)\n",
    "\n",
    "    _df['stock'] = i\n",
    "    _df.reset_index().reset_index().apply(backtest_signals, axis=1)\n",
    "    print(f'Done performing backtesting for {i}')\n",
    "    del _df\n",
    "    trade_in_progress = False"
   ]
  },
  {
   "cell_type": "code",
   "execution_count": null,
   "metadata": {},
   "outputs": [],
   "source": [
    "TRADES[0:40]"
   ]
  },
  {
   "cell_type": "code",
   "execution_count": null,
   "metadata": {},
   "outputs": [],
   "source": [
    "import matplotlib.pyplot as plt\n",
    "pos = pd.DataFrame(TRADES).groupby('stock')['returns'].agg(['mean']).reset_index()\n",
    "pos = pos.sort_values(by='mean', ascending=False).head(10)\n",
    "ax = sb.barplot(x='stock', y='mean', data=pos)\n",
    "ax.set_xticklabels(ax.get_xticklabels(), rotation=90)\n",
    "plt.show()"
   ]
  },
  {
   "cell_type": "code",
   "execution_count": null,
   "metadata": {},
   "outputs": [],
   "source": [
    "pos = pd.DataFrame(TRADES).groupby('stock')['returns'].agg(['mean']).reset_index()\n",
    "pos = pos.sort_values(by='mean', ascending=False).head(11).tail(10)\n",
    "\n",
    "ax = sb.barplot(x='stock', y='mean', data=pos)\n",
    "ax.set_xticklabels(ax.get_xticklabels(), rotation=90)\n",
    "plt.show()"
   ]
  },
  {
   "cell_type": "code",
   "execution_count": null,
   "metadata": {},
   "outputs": [],
   "source": [
    "pos = pd.DataFrame(TRADES).groupby('stock')['returns'].agg(['mean']).reset_index()\n",
    "pos = pos.sort_values(by='mean', ascending=True).head(10)\n",
    "ax = sb.barplot(x='stock', y='mean', data=pos)\n",
    "ax.set_xticklabels(ax.get_xticklabels(), rotation=90)\n",
    "plt.show()"
   ]
  },
  {
   "cell_type": "code",
   "execution_count": null,
   "metadata": {},
   "outputs": [],
   "source": [
    "from yahooquery import Ticker\n",
    "stock = Ticker(\"SBIN.NS\")\n",
    "_df = stock.history(interval='1d', \n",
    "                    start='2022-01-01', \n",
    "                    end=(dt.now() + delta(1)).strftime('%Y-%m-%d'))\n",
    "print(_df)\n",
    "#_df = add_signal_indicators(_df)\n",
    "#print(_df)"
   ]
  },
  {
   "cell_type": "code",
   "execution_count": null,
   "metadata": {},
   "outputs": [],
   "source": [
    "import pandas as pd\n",
    "from yahooquery import Ticker\n",
    "\n",
    "def convert_yahooquery_to_yfinance(df_yahooquery):\n",
    "    # Step 1: Reset the index to make 'Date' a regular column\n",
    "    df_yahooquery.reset_index(inplace=True)\n",
    "\n",
    "    # Step 2: Rename columns\n",
    "    df_yahooquery.rename(columns={\n",
    "        'date': 'Date',\n",
    "        'open': 'Open',\n",
    "        'high': 'High',\n",
    "        'low': 'Low',\n",
    "        'close': 'Close',\n",
    "        'adjclose': 'Adj Close',\n",
    "        'volume': 'Volume'\n",
    "    }, inplace=True)\n",
    "\n",
    "    # Step 3: Convert \"Date\" to a string in \"YYYY-MM-DD\" format\n",
    "    df_yahooquery['Date'] = pd.to_datetime(df_yahooquery['Date']).dt.strftime('%Y-%m-%d')\n",
    "\n",
    "    # Step 4: Set \"Date\" as the index\n",
    "    df_yahooquery.set_index('Date', inplace=True)\n",
    "\n",
    "    # Step 5: Remove the \"symbol\" and \"dividends\" column\n",
    "    df_yahooquery.drop('symbol', axis=1, inplace=True)\n",
    "    df_yahooquery.drop('dividends', axis=1, inplace=True)\n",
    "    return df_yahooquery\n",
    "\n",
    "# Example usage:\n",
    "# Assuming you have a DataFrame df_yahooquery from yahooquery.history\n",
    "\n",
    "stock = Ticker(\"SBIN.NS\")\n",
    "_df = stock.history(interval='1d', \n",
    "                    start='2022-01-01', \n",
    "                    end=(dt.now() + delta(1)).strftime('%Y-%m-%d'))\n",
    "print(_df)\n",
    "df_yfinance = convert_yahooquery_to_yfinance(_df)\n",
    "print(df_yfinance)"
   ]
  },
  {
   "cell_type": "code",
   "execution_count": null,
   "metadata": {},
   "outputs": [],
   "source": [
    "import pandas as pd\n",
    "from yahooquery import Ticker\n",
    "\n",
    "def get_stock_info(symbol):\n",
    "    try:\n",
    "        tickers = Ticker(symbol, validate=True)\n",
    "        datasi = tickers.get_modules(\"summaryProfile quoteType\")\n",
    "        dfsi = pd.DataFrame.from_dict(datasi).T\n",
    "        dataframes = [pd.json_normalize([x for x in dfsi[module] if isinstance(x, dict)]) for\n",
    "                      module in ['summaryProfile', 'quoteType']]\n",
    "        print(dataframes)\n",
    "        dfsi = pd.concat(dataframes, axis=1)\n",
    "        \n",
    "        dfsi = dfsi.set_index('symbol')\n",
    "        \n",
    "        return dfsi\n",
    "    except Exception as e:\n",
    "        #return f\"An error occurred: {e}\"\n",
    "        return None\n",
    "\n",
    "# Example usage:\n",
    "symbol = 'TSLA'  # Replace with the stock symbol you want to retrieve information for\n",
    "stock_info = get_stock_info(symbol)\n",
    "if isinstance(stock_info, pd.DataFrame):\n",
    "    print(stock_info['industry'].iloc[0])\n"
   ]
  },
  {
   "cell_type": "code",
   "execution_count": 33,
   "metadata": {},
   "outputs": [
    {
     "name": "stdout",
     "output_type": "stream",
     "text": [
      "2022-11-08\n"
     ]
    }
   ],
   "source": [
    "end = dt.today().strftime('%Y-%m-%d')\n",
    "start = (dt.now() - delta(365)).strftime('%Y-%m-%d')\n",
    "\n",
    "print(start)"
   ]
  },
  {
   "cell_type": "markdown",
   "metadata": {},
   "source": [
    "import datetime as dt\n",
    "if end is None:\n",
    "    end = dt.datetime.today().strftime('%Y-%m-%d')\n",
    "elif type(end) is str:\n",
    "    end = dt.datetime.strptime(end, '%Y-%m-%d')\n",
    "if start is None:\n",
    "    start = (dt.datetime.now() - dt.timedelta(365)).strftime('%Y-%m-%d')\n",
    "elif type(start) is str:\n",
    "    start = dt.datetime.strptime(start, '%Y-%m-%d')"
   ]
  }
 ],
 "metadata": {
  "kernelspec": {
   "display_name": "myvenv",
   "language": "python",
   "name": "python3"
  },
  "language_info": {
   "codemirror_mode": {
    "name": "ipython",
    "version": 3
   },
   "file_extension": ".py",
   "mimetype": "text/x-python",
   "name": "python",
   "nbconvert_exporter": "python",
   "pygments_lexer": "ipython3",
   "version": "3.10.13"
  }
 },
 "nbformat": 4,
 "nbformat_minor": 2
}
