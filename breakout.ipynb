{
 "cells": [
  {
   "cell_type": "code",
   "execution_count": null,
   "metadata": {},
   "outputs": [],
   "source": [
    "from yahoo_fin.stock_info import get_data\n",
    "import pandas as pd\n",
    "import numpy as np"
   ]
  },
  {
   "cell_type": "code",
   "execution_count": null,
   "metadata": {},
   "outputs": [],
   "source": [
    "latest_25_candles = get_data('EMR', index_as_date=False).tail(25)\n",
    "latest_25_candles"
   ]
  },
  {
   "cell_type": "code",
   "execution_count": null,
   "metadata": {},
   "outputs": [],
   "source": [
    "# Drop the adjusted close column\n",
    "latest_25_candles = latest_25_candles.drop(['adjclose'], axis=1)"
   ]
  },
  {
   "cell_type": "code",
   "execution_count": null,
   "metadata": {},
   "outputs": [],
   "source": [
    "# Get the selling pressure (i.e. distance between candle's high and close)\n",
    "latest_25_candles['SellingPressure'] = latest_25_candles['high'] - latest_25_candles['close']\n",
    "\n",
    "# Get the length of candle's body (from open to close)\n",
    "\n",
    "latest_25_candles['O-to-C'] = latest_25_candles['close'] - latest_25_candles['open']\n",
    "\n",
    "# Get the rolling mean of the candles' bodies for recent 20 candles\n",
    "\n",
    "latest_25_candles['OC-20D-Mean'] = latest_25_candles['O-to-C'].rolling(20).mean()\n",
    "\n",
    "# Get the % change of the current OC relative from the rolling mean\n",
    "\n",
    "latest_25_candles['OC-%-from-20D-Mean'] = 100*(latest_25_candles['O-to-C'] - latest_25_candles['OC-20D-Mean'])/latest_25_candles['OC-20D-Mean']\n",
    "\n",
    "# Get the maximum OC compared to the recent 10 candles\n",
    "\n",
    "latest_25_candles['MaxOC_Prev10'] = latest_25_candles['O-to-C'].rolling(10).max()\n",
    "\n",
    "# Get the rolling mean of volume for the recent 20 candles\n",
    "\n",
    "latest_25_candles['Volume-20D-Mean'] = latest_25_candles['volume'].rolling(20).mean()\n",
    "\n",
    "# Get the % change of the current volume relative from the rolling mean\n",
    "\n",
    "latest_25_candles['Volume-%-from-20D-Mean'] = 100*(latest_25_candles['volume'] - latest_25_candles['Volume-20D-Mean'])/latest_25_candles['Volume-20D-Mean']\n",
    "\n",
    "latest_25_candles"
   ]
  },
  {
   "cell_type": "code",
   "execution_count": null,
   "metadata": {},
   "outputs": [],
   "source": [
    "latest_5_candles = latest_25_candles.tail(5)\n",
    "latest_5_candles"
   ]
  },
  {
   "cell_type": "code",
   "execution_count": null,
   "metadata": {},
   "outputs": [],
   "source": [
    "condition = (latest_5_candles['O-to-C'] >= 0.0) & (latest_5_candles['O-to-C'] == latest_5_candles['MaxOC_Prev10']) & (latest_5_candles['SellingPressure']/latest_5_candles['O-to-C'] <= 0.40) & (latest_5_candles['OC-%-from-20D-Mean'] >= 100.0) & (latest_5_candles['Volume-%-from-20D-Mean'] >= 50.0)\n",
    "\n",
    "breakouts = latest_5_candles[condition].reset_index(drop=True)\n",
    "\n",
    "breakouts"
   ]
  }
 ],
 "metadata": {
  "kernelspec": {
   "display_name": "myvenv",
   "language": "python",
   "name": "python3"
  },
  "language_info": {
   "codemirror_mode": {
    "name": "ipython",
    "version": 3
   },
   "file_extension": ".py",
   "mimetype": "text/x-python",
   "name": "python",
   "nbconvert_exporter": "python",
   "pygments_lexer": "ipython3",
   "version": "3.10.12"
  },
  "orig_nbformat": 4
 },
 "nbformat": 4,
 "nbformat_minor": 2
}
