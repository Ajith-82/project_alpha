{
 "cells": [
  {
   "cell_type": "code",
   "execution_count": null,
   "id": "fd0b1a92",
   "metadata": {},
   "outputs": [],
   "source": [
    "import os\n",
    "import numpy as np\n",
    "import pandas as pd\n",
    "from datetime import datetime, timedelta\n",
    "import simfin as sf\n",
    "from simfin.names import *"
   ]
  },
  {
   "cell_type": "code",
   "execution_count": null,
   "id": "aa959ae6",
   "metadata": {},
   "outputs": [],
   "source": [
    "# Set the SimFin data-directory\n",
    "sf.set_data_dir(\"C:\\\\dev\\\\trading\\\\tradesystem1\\\\data\\\\simfin\")"
   ]
  },
  {
   "cell_type": "code",
   "execution_count": null,
   "id": "00f124d8",
   "metadata": {},
   "outputs": [],
   "source": [
    "#  Set your API Key\n",
    "sf_api_key = \"<your API key>\"\n",
    "sf.set_api_key(sf_api_key)"
   ]
  },
  {
   "cell_type": "code",
   "execution_count": null,
   "id": "da364502",
   "metadata": {},
   "outputs": [],
   "source": [
    "#  Configure SimFin hub with cache refresh params\n",
    "variant = 'latest' #  latest or ttm\n",
    "hub = sf.StockHub(market='us',\n",
    "                  refresh_days=30,\n",
    "                  refresh_days_shareprices=1)\n"
   ]
  },
  {
   "cell_type": "code",
   "execution_count": null,
   "id": "1bf297b0",
   "metadata": {},
   "outputs": [],
   "source": [
    "#  Load quartely income in line line!!!\n",
    "income_df = hub.load_income(variant='quarterly')  # annual or quarterly\n",
    "income_df = income_df.reset_index()\n",
    "for col in income_df.columns:\n",
    "    print(col)\n",
    "income_df['INCOME_GROWTH'] = income_df[OPERATING_INCOME].pct_change(periods=1)\n",
    "#  Average income growth in the last 4 quarters\n",
    "income_df['INCOME_GROWTH_MA4'] = income_df['INCOME_GROWTH'].rolling(4).mean()\n",
    "#  Gross income growth last 4 quarters\n",
    "income_mask = income_df['INCOME_GROWTH_MA4'] > 0.20\n",
    "\n",
    "#  Calculate past 3 months\n",
    "today = datetime.today()\n",
    "today_date_str = today.strftime(\"%Y-%m-%d\")\n",
    "past_date = today - timedelta(days=90)\n",
    "past_date_str = past_date.strftime(\"%Y-%m-%d\")\n",
    "\n",
    "#  Get last 3 months of reporting\n",
    "income_mask &= ((income_df[REPORT_DATE] >= past_date_str) & (income_df[REPORT_DATE] <= today_date_str))\n",
    "\n",
    "#  Format results\n",
    "income_results = income_df[income_mask]\n",
    "income_results = income_results.groupby(['Ticker']).mean()\n",
    "income_results.reset_index(inplace=True)\n",
    "income_results = income_results[['Ticker', 'INCOME_GROWTH_MA4']]\n",
    "print(income_results)"
   ]
  },
  {
   "cell_type": "code",
   "execution_count": null,
   "id": "680f0a50",
   "metadata": {},
   "outputs": [],
   "source": [
    "#  Get financial ratios\n",
    "financial_ratios_df = hub.load_derived(variant='quarterly')  # annual or quarterly\n",
    "financial_ratios_df = financial_ratios_df.reset_index()\n",
    "for col in financial_ratios_df.columns:\n",
    "    print(col)\n",
    "\n",
    "\n",
    "#  Build the mask\n",
    "#  Company’s current assets to its current liabilities.\n",
    "financial_mask = (financial_ratios_df[CURRENT_RATIO] > 1.5)\n",
    "# The debt ratio is defined as the ratio of total debt to total assets\n",
    "financial_mask &= (financial_ratios_df[DEBT_RATIO] < 0.2)\n",
    "financial_mask &= (financial_ratios_df[NET_PROFIT_MARGIN] > 0.15)\n",
    "#  Get last 3 months of reporting\n",
    "financial_mask &= ((financial_ratios_df[REPORT_DATE] >= past_date_str) & (financial_ratios_df[REPORT_DATE] <= today_date_str))\n",
    "\n",
    "financial_selections_df = financial_ratios_df[financial_mask]\n",
    "financial_results = financial_selections_df[['Ticker']]\n",
    "print(financial_results)"
   ]
  },
  {
   "cell_type": "code",
   "execution_count": null,
   "id": "1ed37897",
   "metadata": {},
   "outputs": [],
   "source": [
    "#  Price Ratio Screening\n",
    "price_ratio_df = hub.load_derived_shareprices(variant='daily')  # daily or latest\n",
    "price_ratio_df = price_ratio_df.reset_index()\n",
    "for col in price_ratio_df.columns:\n",
    "    print(col)\n",
    "\n",
    "#  Build the mask\n",
    "# The price-to-earnings ratio (P/E ratio) is the  current share price relative to its earnings per share (EPS)\n",
    "price_ratio_mask = (price_ratio_df[PE_QUARTERLY] < 25)\n",
    "#  The price-to-cash flow (P/CF) ratio compares a company's market value to its operating cash flow or\n",
    "#  its stock price per share to operating cash flow per share\n",
    "price_ratio_mask &= (price_ratio_df[PRICE_FCF_QUARTERLY] < 20)\n",
    "#  Get last 3 months of reporting\n",
    "price_ratio_mask &= ((price_ratio_df['Date'] >= past_date_str) & (price_ratio_df['Date'] <= today_date_str))\n",
    "\n",
    "price_selections_df = price_ratio_df[price_ratio_mask]\n",
    "price_results = price_selections_df.groupby(['Ticker']).mean()\n",
    "price_results.reset_index(inplace=True)\n",
    "price_results = financial_selections_df[['Ticker']]\n",
    "print(price_results)"
   ]
  },
  {
   "cell_type": "code",
   "execution_count": null,
   "id": "ec75100d",
   "metadata": {},
   "outputs": [],
   "source": [
    "from yahooquery import Ticker\n",
    "import pandas as pd\n",
    "\n",
    "def get_stock_info(ticker):\n",
    "    \"\"\"\n",
    "    Get additional stock information using yahooquery.\n",
    "\n",
    "    Parameters:\n",
    "    - ticker: A yahooquery Ticker object.\n",
    "\n",
    "    Returns:\n",
    "    - ticker_info: A DataFrame containing stock information.\n",
    "    \"\"\"\n",
    "    try:\n",
    "        # Get summaryProfile and quoteType modules from yahooquery\n",
    "        datasi = ticker.asset_profile\n",
    "        print(datasi)\n",
    "\n",
    "        # Convert the data to a DataFrame\n",
    "        dfsi = pd.DataFrame.from_dict(datasi).T\n",
    "\n",
    "        # Normalize the JSON data into a DataFrame for each module\n",
    "        dataframes = [\n",
    "            pd.json_normalize([x for x in dfsi[module] if isinstance(x, dict)])\n",
    "            for module in [\"summaryProfile\", \"quoteType\"]\n",
    "        ]\n",
    "\n",
    "        # Concatenate the dataframes into a single dataframe\n",
    "        dfsi = pd.concat(dataframes, axis=1)\n",
    "\n",
    "        # Set the index of the dataframe to the 'symbol' column\n",
    "        ticker_info = dfsi.set_index(\"symbol\")\n",
    "\n",
    "        return ticker_info\n",
    "    except Exception as e:\n",
    "        print(f\"Error for {ticker} get_stock_info: {e}\")\n",
    "        pass\n",
    "\n"
   ]
  },
  {
   "cell_type": "code",
   "execution_count": null,
   "metadata": {},
   "outputs": [],
   "source": [
    "from yahooquery import Ticker\n",
    "ticker_obj = Ticker(\"AAPL\")\n",
    "ticker_obj.calendarEvents\n"
   ]
  }
 ],
 "metadata": {
  "kernelspec": {
   "display_name": "myvenv",
   "language": "python",
   "name": "python3"
  },
  "language_info": {
   "codemirror_mode": {
    "name": "ipython",
    "version": 3
   },
   "file_extension": ".py",
   "mimetype": "text/x-python",
   "name": "python",
   "nbconvert_exporter": "python",
   "pygments_lexer": "ipython3",
   "version": "3.10.12"
  }
 },
 "nbformat": 4,
 "nbformat_minor": 5
}
